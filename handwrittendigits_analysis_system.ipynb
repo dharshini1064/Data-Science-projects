{
  "nbformat": 4,
  "nbformat_minor": 0,
  "metadata": {
    "colab": {
      "provenance": [],
      "authorship_tag": "ABX9TyOl0JLihoW11PhGvYpMmGxW",
      "include_colab_link": true
    },
    "kernelspec": {
      "name": "python3",
      "display_name": "Python 3"
    },
    "language_info": {
      "name": "python"
    }
  },
  "cells": [
    {
      "cell_type": "markdown",
      "metadata": {
        "id": "view-in-github",
        "colab_type": "text"
      },
      "source": [
        "<a href=\"https://colab.research.google.com/github/dharshini1064/Data-Science-projects/blob/main/handwrittendigits_analysis_system.ipynb\" target=\"_parent\"><img src=\"https://colab.research.google.com/assets/colab-badge.svg\" alt=\"Open In Colab\"/></a>"
      ]
    },
    {
      "cell_type": "code",
      "execution_count": 1,
      "metadata": {
        "id": "noqGAKCoR4-I"
      },
      "outputs": [],
      "source": [
        "import torch\n",
        "import torch.nn as nn\n",
        "import torchvision.datasets as dsets\n",
        "import torchvision.transforms as transforms\n",
        "from torch.autograd import Variable"
      ]
    },
    {
      "cell_type": "code",
      "source": [
        "# Set the batch size\n",
        "batch_size = 64\n",
        "\n",
        "# MNIST Dataset (Images and Labels)\n",
        "train_dataset = dsets.MNIST(root ='./data',\n",
        "                            train = True,\n",
        "                            transform = transforms.ToTensor(),\n",
        "                            download = True)\n",
        "\n",
        "test_dataset = dsets.MNIST(root ='./data',\n",
        "                           train = False,\n",
        "                           transform = transforms.ToTensor())\n",
        "\n",
        "# Dataset Loader (Input Pipeline)\n",
        "train_loader = torch.utils.data.DataLoader(dataset = train_dataset,\n",
        "                                           batch_size = batch_size,\n",
        "                                           shuffle = True)\n",
        "\n",
        "test_loader = torch.utils.data.DataLoader(dataset = test_dataset,\n",
        "                                          batch_size = batch_size,\n",
        "                                          shuffle = False)\n"
      ],
      "metadata": {
        "colab": {
          "base_uri": "https://localhost:8080/"
        },
        "id": "YeGTRydvSpc1",
        "outputId": "132454d9-760a-49fe-ea58-58874e542676"
      },
      "execution_count": 2,
      "outputs": [
        {
          "output_type": "stream",
          "name": "stdout",
          "text": [
            "Downloading http://yann.lecun.com/exdb/mnist/train-images-idx3-ubyte.gz\n",
            "Failed to download (trying next):\n",
            "HTTP Error 403: Forbidden\n",
            "\n",
            "Downloading https://ossci-datasets.s3.amazonaws.com/mnist/train-images-idx3-ubyte.gz\n",
            "Downloading https://ossci-datasets.s3.amazonaws.com/mnist/train-images-idx3-ubyte.gz to ./data/MNIST/raw/train-images-idx3-ubyte.gz\n"
          ]
        },
        {
          "output_type": "stream",
          "name": "stderr",
          "text": [
            "100%|██████████| 9.91M/9.91M [00:00<00:00, 37.7MB/s]\n"
          ]
        },
        {
          "output_type": "stream",
          "name": "stdout",
          "text": [
            "Extracting ./data/MNIST/raw/train-images-idx3-ubyte.gz to ./data/MNIST/raw\n",
            "\n",
            "Downloading http://yann.lecun.com/exdb/mnist/train-labels-idx1-ubyte.gz\n",
            "Failed to download (trying next):\n",
            "HTTP Error 403: Forbidden\n",
            "\n",
            "Downloading https://ossci-datasets.s3.amazonaws.com/mnist/train-labels-idx1-ubyte.gz\n",
            "Downloading https://ossci-datasets.s3.amazonaws.com/mnist/train-labels-idx1-ubyte.gz to ./data/MNIST/raw/train-labels-idx1-ubyte.gz\n"
          ]
        },
        {
          "output_type": "stream",
          "name": "stderr",
          "text": [
            "100%|██████████| 28.9k/28.9k [00:00<00:00, 1.21MB/s]\n"
          ]
        },
        {
          "output_type": "stream",
          "name": "stdout",
          "text": [
            "Extracting ./data/MNIST/raw/train-labels-idx1-ubyte.gz to ./data/MNIST/raw\n",
            "\n",
            "Downloading http://yann.lecun.com/exdb/mnist/t10k-images-idx3-ubyte.gz\n",
            "Failed to download (trying next):\n",
            "HTTP Error 403: Forbidden\n",
            "\n",
            "Downloading https://ossci-datasets.s3.amazonaws.com/mnist/t10k-images-idx3-ubyte.gz\n",
            "Downloading https://ossci-datasets.s3.amazonaws.com/mnist/t10k-images-idx3-ubyte.gz to ./data/MNIST/raw/t10k-images-idx3-ubyte.gz\n"
          ]
        },
        {
          "output_type": "stream",
          "name": "stderr",
          "text": [
            "100%|██████████| 1.65M/1.65M [00:00<00:00, 10.9MB/s]\n"
          ]
        },
        {
          "output_type": "stream",
          "name": "stdout",
          "text": [
            "Extracting ./data/MNIST/raw/t10k-images-idx3-ubyte.gz to ./data/MNIST/raw\n",
            "\n",
            "Downloading http://yann.lecun.com/exdb/mnist/t10k-labels-idx1-ubyte.gz\n",
            "Failed to download (trying next):\n",
            "HTTP Error 403: Forbidden\n",
            "\n",
            "Downloading https://ossci-datasets.s3.amazonaws.com/mnist/t10k-labels-idx1-ubyte.gz\n",
            "Downloading https://ossci-datasets.s3.amazonaws.com/mnist/t10k-labels-idx1-ubyte.gz to ./data/MNIST/raw/t10k-labels-idx1-ubyte.gz\n"
          ]
        },
        {
          "output_type": "stream",
          "name": "stderr",
          "text": [
            "100%|██████████| 4.54k/4.54k [00:00<00:00, 3.39MB/s]"
          ]
        },
        {
          "output_type": "stream",
          "name": "stdout",
          "text": [
            "Extracting ./data/MNIST/raw/t10k-labels-idx1-ubyte.gz to ./data/MNIST/raw\n",
            "\n"
          ]
        },
        {
          "output_type": "stream",
          "name": "stderr",
          "text": [
            "\n"
          ]
        }
      ]
    },
    {
      "cell_type": "code",
      "source": [
        "# Hyper Parameters\n",
        "input_size = 784\n",
        "num_classes = 10\n",
        "num_epochs = 5\n",
        "batch_size = 100\n",
        "learning_rate = 0.001\n"
      ],
      "metadata": {
        "id": "_JMaZb3eS2ZT"
      },
      "execution_count": 3,
      "outputs": []
    },
    {
      "cell_type": "code",
      "source": [
        "class LogisticRegression(nn.Module):\n",
        "    def __init__(self, input_size, num_classes):\n",
        "        super(LogisticRegression, self).__init__()\n",
        "        self.linear = nn.Linear(input_size, num_classes)\n",
        "\n",
        "    def forward(self, x):\n",
        "        out = self.linear(x)\n",
        "        return out"
      ],
      "metadata": {
        "id": "zsyJeeDcS7N3"
      },
      "execution_count": 4,
      "outputs": []
    },
    {
      "cell_type": "code",
      "source": [
        "model = LogisticRegression(input_size, num_classes)"
      ],
      "metadata": {
        "id": "PquUnJ3ES-d_"
      },
      "execution_count": 5,
      "outputs": []
    },
    {
      "cell_type": "code",
      "source": [
        "criterion = nn.CrossEntropyLoss()\n",
        "optimizer = torch.optim.SGD(model.parameters(), lr = learning_rate)"
      ],
      "metadata": {
        "id": "aDyCF_22TAsY"
      },
      "execution_count": 6,
      "outputs": []
    },
    {
      "cell_type": "code",
      "source": [
        "\n",
        "for epoch in range(num_epochs):\n",
        "    for i, (images, labels) in enumerate(train_loader):\n",
        "        images = Variable(images.view(-1, 28 * 28))\n",
        "        labels = Variable(labels)\n",
        "\n",
        "        # Forward + Backward + Optimize\n",
        "        optimizer.zero_grad()\n",
        "        outputs = model(images)\n",
        "        loss = criterion(outputs, labels)\n",
        "        loss.backward()\n",
        "        optimizer.step()\n",
        "\n",
        "        if (i + 1) % 100 == 0:\n",
        "            print('Epoch: [% d/% d], Step: [% d/% d], Loss: %.4f'\n",
        "                % (epoch + 1, num_epochs, i + 1,\n",
        "                    len(train_dataset) // batch_size, loss.item())) # Use loss.item() to get the scalar value\n",
        "\n"
      ],
      "metadata": {
        "colab": {
          "base_uri": "https://localhost:8080/"
        },
        "id": "aPcIJaXTTEXi",
        "outputId": "29b33d4c-5e45-4102-a43f-ca76ade74336"
      },
      "execution_count": 7,
      "outputs": [
        {
          "output_type": "stream",
          "name": "stdout",
          "text": [
            "Epoch: [ 1/ 5], Step: [ 100/ 600], Loss: 2.2290\n",
            "Epoch: [ 1/ 5], Step: [ 200/ 600], Loss: 2.1492\n",
            "Epoch: [ 1/ 5], Step: [ 300/ 600], Loss: 2.0539\n",
            "Epoch: [ 1/ 5], Step: [ 400/ 600], Loss: 1.9423\n",
            "Epoch: [ 1/ 5], Step: [ 500/ 600], Loss: 1.8845\n",
            "Epoch: [ 1/ 5], Step: [ 600/ 600], Loss: 1.8225\n",
            "Epoch: [ 1/ 5], Step: [ 700/ 600], Loss: 1.7813\n",
            "Epoch: [ 1/ 5], Step: [ 800/ 600], Loss: 1.6925\n",
            "Epoch: [ 1/ 5], Step: [ 900/ 600], Loss: 1.5558\n",
            "Epoch: [ 2/ 5], Step: [ 100/ 600], Loss: 1.5427\n",
            "Epoch: [ 2/ 5], Step: [ 200/ 600], Loss: 1.5349\n",
            "Epoch: [ 2/ 5], Step: [ 300/ 600], Loss: 1.3415\n",
            "Epoch: [ 2/ 5], Step: [ 400/ 600], Loss: 1.3431\n",
            "Epoch: [ 2/ 5], Step: [ 500/ 600], Loss: 1.4079\n",
            "Epoch: [ 2/ 5], Step: [ 600/ 600], Loss: 1.3195\n",
            "Epoch: [ 2/ 5], Step: [ 700/ 600], Loss: 1.3450\n",
            "Epoch: [ 2/ 5], Step: [ 800/ 600], Loss: 1.2330\n",
            "Epoch: [ 2/ 5], Step: [ 900/ 600], Loss: 1.2187\n",
            "Epoch: [ 3/ 5], Step: [ 100/ 600], Loss: 1.1593\n",
            "Epoch: [ 3/ 5], Step: [ 200/ 600], Loss: 1.0904\n",
            "Epoch: [ 3/ 5], Step: [ 300/ 600], Loss: 1.1809\n",
            "Epoch: [ 3/ 5], Step: [ 400/ 600], Loss: 1.0229\n",
            "Epoch: [ 3/ 5], Step: [ 500/ 600], Loss: 1.0669\n",
            "Epoch: [ 3/ 5], Step: [ 600/ 600], Loss: 1.1028\n",
            "Epoch: [ 3/ 5], Step: [ 700/ 600], Loss: 0.9938\n",
            "Epoch: [ 3/ 5], Step: [ 800/ 600], Loss: 1.0338\n",
            "Epoch: [ 3/ 5], Step: [ 900/ 600], Loss: 1.0614\n",
            "Epoch: [ 4/ 5], Step: [ 100/ 600], Loss: 1.0637\n",
            "Epoch: [ 4/ 5], Step: [ 200/ 600], Loss: 0.9386\n",
            "Epoch: [ 4/ 5], Step: [ 300/ 600], Loss: 1.0399\n",
            "Epoch: [ 4/ 5], Step: [ 400/ 600], Loss: 0.9956\n",
            "Epoch: [ 4/ 5], Step: [ 500/ 600], Loss: 0.9762\n",
            "Epoch: [ 4/ 5], Step: [ 600/ 600], Loss: 1.0476\n",
            "Epoch: [ 4/ 5], Step: [ 700/ 600], Loss: 0.9551\n",
            "Epoch: [ 4/ 5], Step: [ 800/ 600], Loss: 1.0097\n",
            "Epoch: [ 4/ 5], Step: [ 900/ 600], Loss: 0.9115\n",
            "Epoch: [ 5/ 5], Step: [ 100/ 600], Loss: 0.8790\n",
            "Epoch: [ 5/ 5], Step: [ 200/ 600], Loss: 1.0437\n",
            "Epoch: [ 5/ 5], Step: [ 300/ 600], Loss: 0.8938\n",
            "Epoch: [ 5/ 5], Step: [ 400/ 600], Loss: 0.8572\n",
            "Epoch: [ 5/ 5], Step: [ 500/ 600], Loss: 0.8352\n",
            "Epoch: [ 5/ 5], Step: [ 600/ 600], Loss: 0.8019\n",
            "Epoch: [ 5/ 5], Step: [ 700/ 600], Loss: 0.7803\n",
            "Epoch: [ 5/ 5], Step: [ 800/ 600], Loss: 0.8363\n",
            "Epoch: [ 5/ 5], Step: [ 900/ 600], Loss: 0.8555\n"
          ]
        }
      ]
    },
    {
      "cell_type": "code",
      "source": [
        "# Test the Model\n",
        "correct = 0\n",
        "total = 0\n",
        "for images, labels in test_loader:\n",
        "    images = Variable(images.view(-1, 28 * 28))\n",
        "    outputs = model(images)\n",
        "    _, predicted = torch.max(outputs.data, 1)\n",
        "    total += labels.size(0)\n",
        "    correct += (predicted == labels).sum()\n",
        "\n",
        "print('Accuracy of the model on the 10000 test images: % d %%' % (\n",
        "            100 * correct / total))"
      ],
      "metadata": {
        "colab": {
          "base_uri": "https://localhost:8080/"
        },
        "id": "fxF4zrHuTHLX",
        "outputId": "e924de2f-ae00-46db-e9e9-de02cc032b66"
      },
      "execution_count": 8,
      "outputs": [
        {
          "output_type": "stream",
          "name": "stdout",
          "text": [
            "Accuracy of the model on the 10000 test images:  84 %\n"
          ]
        }
      ]
    },
    {
      "cell_type": "code",
      "source": [
        "import torch\n",
        "import torch.nn as nn\n",
        "import torchvision.datasets as dsets\n",
        "import torchvision.transforms as transforms\n",
        "from torch.autograd import Variable\n",
        "\n",
        "\n",
        "# MNIST Dataset (Images and Labels)\n",
        "train_dataset = dsets.MNIST(root ='./data',\n",
        "                            train = True,\n",
        "                            transform = transforms.ToTensor(),\n",
        "                            download = True)\n",
        "\n",
        "test_dataset = dsets.MNIST(root ='./data',\n",
        "                        train = False,\n",
        "                        transform = transforms.ToTensor())\n",
        "\n",
        "# Dataset Loader (Input Pipeline)\n",
        "train_loader = torch.utils.data.DataLoader(dataset = train_dataset,\n",
        "                                        batch_size = batch_size,\n",
        "                                        shuffle = True)\n",
        "\n",
        "test_loader = torch.utils.data.DataLoader(dataset = test_dataset,\n",
        "                                        batch_size = batch_size,\n",
        "                                        shuffle = False)\n",
        "\n",
        "# Hyper Parameters\n",
        "input_size = 784\n",
        "num_classes = 10\n",
        "num_epochs = 5\n",
        "batch_size = 100\n",
        "learning_rate = 0.001\n",
        "\n",
        "# Model\n",
        "class LogisticRegression(nn.Module):\n",
        "    def __init__(self, input_size, num_classes):\n",
        "        super(LogisticRegression, self).__init__()\n",
        "        self.linear = nn.Linear(input_size, num_classes)\n",
        "\n",
        "    def forward(self, x):\n",
        "        out = self.linear(x)\n",
        "        return out\n",
        "\n",
        "\n",
        "model = LogisticRegression(input_size, num_classes)\n",
        "\n",
        "# Loss and Optimizer\n",
        "# Softmax is internally computed.\n",
        "# Set parameters to be updated.\n",
        "criterion = nn.CrossEntropyLoss()\n",
        "optimizer = torch.optim.SGD(model.parameters(), lr = learning_rate)\n",
        "\n",
        "# Training the Model\n",
        "for epoch in range(num_epochs):\n",
        "    for i, (images, labels) in enumerate(train_loader):\n",
        "        images = Variable(images.view(-1, 28 * 28))\n",
        "        labels = Variable(labels)\n",
        "\n",
        "        # Forward + Backward + Optimize\n",
        "        optimizer.zero_grad()\n",
        "        outputs = model(images)\n",
        "        loss = criterion(outputs, labels)\n",
        "        loss.backward()\n",
        "        optimizer.step()\n",
        "\n",
        "        if (i + 1) % 100 == 0:\n",
        "            print('Epoch: [% d/% d], Step: [% d/% d], Loss: %.4f'\n",
        "                % (epoch + 1, num_epochs, i + 1,\n",
        "                    len(train_dataset) // batch_size, loss.item()))\n",
        "\n",
        "correct = 0\n",
        "total = 0\n",
        "for images, labels in test_loader:\n",
        "    images = Variable(images.view(-1, 28 * 28))\n",
        "    outputs = model(images)\n",
        "    _, predicted = torch.max(outputs.data, 1)\n",
        "    total += labels.size(0)\n",
        "    correct += (predicted == labels).sum()\n",
        "\n",
        "print('Accuracy of the model on the 10000 test images: % d %%' % (\n",
        "            100 * correct / total))\n",
        "\n"
      ],
      "metadata": {
        "colab": {
          "base_uri": "https://localhost:8080/"
        },
        "id": "P9c3kaLGUM2p",
        "outputId": "900faa4b-c00e-45da-e933-e836efd1f668"
      },
      "execution_count": 9,
      "outputs": [
        {
          "output_type": "stream",
          "name": "stdout",
          "text": [
            "Epoch: [ 1/ 5], Step: [ 100/ 600], Loss: 2.2052\n",
            "Epoch: [ 1/ 5], Step: [ 200/ 600], Loss: 2.1188\n",
            "Epoch: [ 1/ 5], Step: [ 300/ 600], Loss: 1.9996\n",
            "Epoch: [ 1/ 5], Step: [ 400/ 600], Loss: 1.9541\n",
            "Epoch: [ 1/ 5], Step: [ 500/ 600], Loss: 1.8914\n",
            "Epoch: [ 1/ 5], Step: [ 600/ 600], Loss: 1.8327\n",
            "Epoch: [ 2/ 5], Step: [ 100/ 600], Loss: 1.7630\n",
            "Epoch: [ 2/ 5], Step: [ 200/ 600], Loss: 1.6476\n",
            "Epoch: [ 2/ 5], Step: [ 300/ 600], Loss: 1.6156\n",
            "Epoch: [ 2/ 5], Step: [ 400/ 600], Loss: 1.6202\n",
            "Epoch: [ 2/ 5], Step: [ 500/ 600], Loss: 1.4247\n",
            "Epoch: [ 2/ 5], Step: [ 600/ 600], Loss: 1.4671\n",
            "Epoch: [ 3/ 5], Step: [ 100/ 600], Loss: 1.4244\n",
            "Epoch: [ 3/ 5], Step: [ 200/ 600], Loss: 1.3859\n",
            "Epoch: [ 3/ 5], Step: [ 300/ 600], Loss: 1.3079\n",
            "Epoch: [ 3/ 5], Step: [ 400/ 600], Loss: 1.2931\n",
            "Epoch: [ 3/ 5], Step: [ 500/ 600], Loss: 1.3235\n",
            "Epoch: [ 3/ 5], Step: [ 600/ 600], Loss: 1.2317\n",
            "Epoch: [ 4/ 5], Step: [ 100/ 600], Loss: 1.1637\n",
            "Epoch: [ 4/ 5], Step: [ 200/ 600], Loss: 1.2906\n",
            "Epoch: [ 4/ 5], Step: [ 300/ 600], Loss: 1.1571\n",
            "Epoch: [ 4/ 5], Step: [ 400/ 600], Loss: 1.1911\n",
            "Epoch: [ 4/ 5], Step: [ 500/ 600], Loss: 1.0856\n",
            "Epoch: [ 4/ 5], Step: [ 600/ 600], Loss: 1.2987\n",
            "Epoch: [ 5/ 5], Step: [ 100/ 600], Loss: 1.0099\n",
            "Epoch: [ 5/ 5], Step: [ 200/ 600], Loss: 1.1449\n",
            "Epoch: [ 5/ 5], Step: [ 300/ 600], Loss: 1.0040\n",
            "Epoch: [ 5/ 5], Step: [ 400/ 600], Loss: 1.0419\n",
            "Epoch: [ 5/ 5], Step: [ 500/ 600], Loss: 1.0534\n",
            "Epoch: [ 5/ 5], Step: [ 600/ 600], Loss: 0.9688\n",
            "Accuracy of the model on the 10000 test images:  82 %\n"
          ]
        }
      ]
    }
  ]
}